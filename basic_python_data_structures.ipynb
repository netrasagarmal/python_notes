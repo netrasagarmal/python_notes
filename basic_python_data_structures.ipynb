{
 "cells": [
  {
   "cell_type": "code",
   "execution_count": 2,
   "id": "b36f9b46",
   "metadata": {},
   "outputs": [],
   "source": [
    "import numpy as np"
   ]
  },
  {
   "cell_type": "markdown",
   "id": "630b98a0",
   "metadata": {},
   "source": [
    "Index-wise Sum\n",
    "Given a = [1, 2, 3], b = [4, 5, 6], return [5, 7, 9] — write 3 different ways to do this."
   ]
  },
  {
   "cell_type": "code",
   "execution_count": 5,
   "id": "6d12618b",
   "metadata": {},
   "outputs": [
    {
     "name": "stdout",
     "output_type": "stream",
     "text": [
      "\n",
      " one:  [5, 7, 9]\n",
      "\n",
      " two:  [5, 7, 9]\n",
      "\n",
      " three:  [5 7 9]\n"
     ]
    }
   ],
   "source": [
    "a = [1, 2, 3] \n",
    "b = [4, 5, 6]\n",
    "\n",
    "# 1\n",
    "print(\"\\n one: \",[a[i] + b[i] for i in range(len(a))])\n",
    "\n",
    "# 2\n",
    "print(\"\\n two: \",list(map(sum, zip(a, b))))\n",
    "\n",
    "# 3\n",
    "print(\"\\n three: \",np.add(a, b))  # if using NumPy\n"
   ]
  },
  {
   "cell_type": "markdown",
   "id": "102e728a",
   "metadata": {},
   "source": [
    "Unequal List Addition\n",
    "How would you add a = [1, 2, 3] and b = [4, 5] to get [5, 7, 3]?"
   ]
  },
  {
   "cell_type": "code",
   "execution_count": 6,
   "id": "25597f25",
   "metadata": {},
   "outputs": [
    {
     "data": {
      "text/plain": [
       "[5, 7, 9]"
      ]
     },
     "execution_count": 6,
     "metadata": {},
     "output_type": "execute_result"
    }
   ],
   "source": [
    "from itertools import zip_longest\n",
    "list(map(sum, zip_longest(a, b, fillvalue=0)))\n"
   ]
  },
  {
   "cell_type": "markdown",
   "id": "f10c9d5d",
   "metadata": {},
   "source": [
    "Flatten Nested List\n",
    "Flatten [[1, 2], [3, 4], [5]] to [1, 2, 3, 4, 5] using sum, itertools, and a loop."
   ]
  },
  {
   "cell_type": "code",
   "execution_count": null,
   "id": "bd366068",
   "metadata": {},
   "outputs": [
    {
     "data": {
      "text/plain": [
       "[1, 2, 3, 4, 5]"
      ]
     },
     "execution_count": 9,
     "metadata": {},
     "output_type": "execute_result"
    }
   ],
   "source": [
    "sum([[1, 2], [3, 4], [5]], [])\n",
    "\n",
    "import itertools\n",
    "list(itertools.chain.from_iterable([[1,2],[3,4],[5]]))\n",
    "\n",
    "lst = [[1, 2], [3, 4], [5]]\n",
    "\n",
    "[item for sublist in lst for item in sublist]\n"
   ]
  },
  {
   "cell_type": "markdown",
   "id": "643c4c3c",
   "metadata": {},
   "source": [
    "Filter Based on Another List\n",
    "From a = [1, 2, 3, 4] and b = [True, False, True, False], return [1, 3].\n",
    "\n"
   ]
  },
  {
   "cell_type": "code",
   "execution_count": 11,
   "id": "e5e92315",
   "metadata": {},
   "outputs": [
    {
     "data": {
      "text/plain": [
       "[1, 3]"
      ]
     },
     "execution_count": 11,
     "metadata": {},
     "output_type": "execute_result"
    }
   ],
   "source": [
    "a = [1, 2, 3, 4] \n",
    "b = [True, False, True, False]\n",
    "\n",
    "[a[i] for i in range(len(b)) if b[i]]\n"
   ]
  },
  {
   "cell_type": "markdown",
   "id": "8f0efc5d",
   "metadata": {},
   "source": [
    "Remove All Occurrences of an Element Efficiently\n",
    "Remove all 0s from a list without using remove() or creating a new list manually.\n",
    "\n"
   ]
  },
  {
   "cell_type": "code",
   "execution_count": 12,
   "id": "b97f2e0b",
   "metadata": {},
   "outputs": [
    {
     "name": "stdout",
     "output_type": "stream",
     "text": [
      "[1, 2, 3, 4, 5, 6, 7]\n"
     ]
    }
   ],
   "source": [
    "a = [1, 2, 3, 4, 0, 5, 0, 6, 0, 7]\n",
    "a = [x for x in a if x != 0]\n",
    "print(a)"
   ]
  },
  {
   "cell_type": "markdown",
   "id": "673e8450",
   "metadata": {},
   "source": [
    "In-place vs Copy\n",
    "How do a[:] = [1, 2], a = [1, 2], and a.copy() differ in list mutation?\n",
    "\n",
    "a[:] = ...: updates the same object\n",
    "\n",
    "a = ...: rebinds the variable, not in-place\n",
    "\n",
    "a.copy(): returns a shallow copy"
   ]
  },
  {
   "cell_type": "code",
   "execution_count": null,
   "id": "2e6fe92a",
   "metadata": {},
   "outputs": [],
   "source": []
  },
  {
   "cell_type": "markdown",
   "id": "44f485fc",
   "metadata": {},
   "source": [
    "Reverse a List (Multiple Ways)\n",
    "Reverse [1, 2, 3] in 3 different ways: slicing, reverse(), reversed()."
   ]
  },
  {
   "cell_type": "code",
   "execution_count": null,
   "id": "4b1f8773",
   "metadata": {},
   "outputs": [],
   "source": [
    "a[::-1]\n",
    "\n",
    "a.reverse()\n",
    "\n",
    "list(reversed(a))\n"
   ]
  },
  {
   "cell_type": "markdown",
   "id": "2c32efbf",
   "metadata": {},
   "source": [
    "Zip Pitfall\n",
    "What happens if zip([1, 2], [3])? How to zip and fill missing values with None?"
   ]
  },
  {
   "cell_type": "code",
   "execution_count": null,
   "id": "e6ae2274",
   "metadata": {},
   "outputs": [],
   "source": [
    "list(zip([1,2], [3])) -> [(1, 3)]  # stops at shortest\n",
    "list(zip_longest([1,2], [3], fillvalue=None)) -> [(1,3), (2,None)]\n"
   ]
  },
  {
   "cell_type": "markdown",
   "id": "f9a6f551",
   "metadata": {},
   "source": [
    "Deep vs Shallow Copy\n",
    "What's the difference between:"
   ]
  },
  {
   "cell_type": "code",
   "execution_count": null,
   "id": "8bbb8dee",
   "metadata": {},
   "outputs": [
    {
     "name": "stdout",
     "output_type": "stream",
     "text": [
      "[[1], [2]] ([[1], [2]], [[1], [2]])\n"
     ]
    }
   ],
   "source": [
    "import copy\n",
    "a = [[1], [2]]\n",
    "b = a[:], copy.deepcopy(a)\n",
    "\n",
    "print (a, b)\n"
   ]
  },
  {
   "cell_type": "code",
   "execution_count": null,
   "id": "50546875",
   "metadata": {},
   "outputs": [],
   "source": []
  },
  {
   "cell_type": "code",
   "execution_count": null,
   "id": "cc1240af",
   "metadata": {},
   "outputs": [],
   "source": []
  },
  {
   "cell_type": "code",
   "execution_count": null,
   "id": "87774076",
   "metadata": {},
   "outputs": [],
   "source": []
  },
  {
   "cell_type": "code",
   "execution_count": null,
   "id": "e1dfd44f",
   "metadata": {},
   "outputs": [],
   "source": []
  },
  {
   "cell_type": "code",
   "execution_count": null,
   "id": "c15ddf6a",
   "metadata": {},
   "outputs": [],
   "source": []
  },
  {
   "cell_type": "code",
   "execution_count": null,
   "id": "4cb8f78a",
   "metadata": {},
   "outputs": [],
   "source": []
  },
  {
   "cell_type": "code",
   "execution_count": null,
   "id": "bd202a52",
   "metadata": {},
   "outputs": [],
   "source": []
  },
  {
   "cell_type": "code",
   "execution_count": null,
   "id": "12cf4321",
   "metadata": {},
   "outputs": [],
   "source": []
  },
  {
   "cell_type": "code",
   "execution_count": null,
   "id": "b1f70168",
   "metadata": {},
   "outputs": [],
   "source": []
  },
  {
   "cell_type": "code",
   "execution_count": null,
   "id": "04436d99",
   "metadata": {},
   "outputs": [],
   "source": []
  },
  {
   "cell_type": "code",
   "execution_count": null,
   "id": "e3587232",
   "metadata": {},
   "outputs": [],
   "source": []
  },
  {
   "cell_type": "code",
   "execution_count": null,
   "id": "59b98356",
   "metadata": {},
   "outputs": [],
   "source": []
  },
  {
   "cell_type": "code",
   "execution_count": null,
   "id": "511505e4",
   "metadata": {},
   "outputs": [],
   "source": []
  },
  {
   "cell_type": "code",
   "execution_count": null,
   "id": "34e75dcd",
   "metadata": {},
   "outputs": [],
   "source": []
  },
  {
   "cell_type": "code",
   "execution_count": null,
   "id": "bf3b5f1a",
   "metadata": {},
   "outputs": [],
   "source": []
  },
  {
   "cell_type": "code",
   "execution_count": null,
   "id": "7f5693fa",
   "metadata": {},
   "outputs": [],
   "source": []
  },
  {
   "cell_type": "code",
   "execution_count": null,
   "id": "5a49712f",
   "metadata": {},
   "outputs": [],
   "source": []
  },
  {
   "cell_type": "code",
   "execution_count": null,
   "id": "b7554f1d",
   "metadata": {},
   "outputs": [],
   "source": []
  },
  {
   "cell_type": "code",
   "execution_count": null,
   "id": "764ae60b",
   "metadata": {},
   "outputs": [],
   "source": []
  },
  {
   "cell_type": "code",
   "execution_count": null,
   "id": "12014d26",
   "metadata": {},
   "outputs": [],
   "source": []
  },
  {
   "cell_type": "code",
   "execution_count": null,
   "id": "b6be8608",
   "metadata": {},
   "outputs": [],
   "source": []
  },
  {
   "cell_type": "code",
   "execution_count": null,
   "id": "dc0e5a70",
   "metadata": {},
   "outputs": [],
   "source": []
  }
 ],
 "metadata": {
  "kernelspec": {
   "display_name": "Python 3",
   "language": "python",
   "name": "python3"
  },
  "language_info": {
   "codemirror_mode": {
    "name": "ipython",
    "version": 3
   },
   "file_extension": ".py",
   "mimetype": "text/x-python",
   "name": "python",
   "nbconvert_exporter": "python",
   "pygments_lexer": "ipython3",
   "version": "3.11.9"
  }
 },
 "nbformat": 4,
 "nbformat_minor": 5
}
